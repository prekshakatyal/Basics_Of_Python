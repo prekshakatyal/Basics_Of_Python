{
  "nbformat": 4,
  "nbformat_minor": 0,
  "metadata": {
    "colab": {
      "provenance": []
    },
    "kernelspec": {
      "name": "python3",
      "display_name": "Python 3"
    },
    "language_info": {
      "name": "python"
    }
  },
  "cells": [
    {
      "cell_type": "code",
      "execution_count": 86,
      "metadata": {
        "colab": {
          "base_uri": "https://localhost:8080/"
        },
        "id": "cj9VP92oP6ov",
        "outputId": "4ce1ae9f-0433-40ea-9f7a-0efccc6e006b"
      },
      "outputs": [
        {
          "output_type": "stream",
          "name": "stdout",
          "text": [
            "[11, 12, 13, 14, 50, 60]\n"
          ]
        }
      ],
      "source": [
        "L=[11,12,13,14]\n",
        "L.append(50)\n",
        "L.append(60)\n",
        "print(L)"
      ]
    },
    {
      "cell_type": "code",
      "source": [
        "L.remove(13)\n",
        "L.remove(14)\n",
        "print(L)"
      ],
      "metadata": {
        "colab": {
          "base_uri": "https://localhost:8080/"
        },
        "id": "ijOu4kk5Q7TB",
        "outputId": "0da7224f-887f-4eaa-b62c-ccb8a3b39459"
      },
      "execution_count": 87,
      "outputs": [
        {
          "output_type": "stream",
          "name": "stdout",
          "text": [
            "[11, 12, 50, 60]\n"
          ]
        }
      ]
    },
    {
      "cell_type": "code",
      "source": [
        "L.sort()\n",
        "print(L)"
      ],
      "metadata": {
        "colab": {
          "base_uri": "https://localhost:8080/"
        },
        "id": "4bSRiAwyRrdH",
        "outputId": "b72179d9-51a0-48ef-fb32-470b1777c07f"
      },
      "execution_count": 88,
      "outputs": [
        {
          "output_type": "stream",
          "name": "stdout",
          "text": [
            "[11, 12, 50, 60]\n"
          ]
        }
      ]
    },
    {
      "cell_type": "code",
      "source": [
        "L.sort(reverse=True)\n",
        "print(L)\n"
      ],
      "metadata": {
        "colab": {
          "base_uri": "https://localhost:8080/"
        },
        "id": "5KefBszcR2IP",
        "outputId": "2573336c-411d-4cf5-b499-bbc91f15b1ce"
      },
      "execution_count": 89,
      "outputs": [
        {
          "output_type": "stream",
          "name": "stdout",
          "text": [
            "[60, 50, 12, 11]\n"
          ]
        }
      ]
    },
    {
      "cell_type": "code",
      "source": [
        "13 in L"
      ],
      "metadata": {
        "colab": {
          "base_uri": "https://localhost:8080/"
        },
        "id": "_eu08LWjR3yN",
        "outputId": "87a13dff-d439-418b-ff11-805408264b37"
      },
      "execution_count": 90,
      "outputs": [
        {
          "output_type": "execute_result",
          "data": {
            "text/plain": [
              "False"
            ]
          },
          "metadata": {},
          "execution_count": 90
        }
      ]
    },
    {
      "cell_type": "code",
      "source": [
        "len(L)"
      ],
      "metadata": {
        "colab": {
          "base_uri": "https://localhost:8080/"
        },
        "id": "Jq6dW_JbSbNJ",
        "outputId": "dbf7367e-dfe8-4fe2-b993-3b8574a90c02"
      },
      "execution_count": 91,
      "outputs": [
        {
          "output_type": "execute_result",
          "data": {
            "text/plain": [
              "4"
            ]
          },
          "metadata": {},
          "execution_count": 91
        }
      ]
    },
    {
      "cell_type": "code",
      "source": [
        "sum=0\n",
        "for i in range(0,len(L)):\n",
        "   sum=sum+L[i]\n",
        "print(sum)"
      ],
      "metadata": {
        "colab": {
          "base_uri": "https://localhost:8080/"
        },
        "id": "XQ65eb7JTCw-",
        "outputId": "2e472895-cd1e-4891-bc6d-2871c5a31aed"
      },
      "execution_count": 92,
      "outputs": [
        {
          "output_type": "stream",
          "name": "stdout",
          "text": [
            "133\n"
          ]
        }
      ]
    },
    {
      "cell_type": "code",
      "source": [
        "sum=0\n",
        "for i in range(0,len(L)):\n",
        "   if(L[i]%2==0):\n",
        "     sum=sum+L[i]\n",
        "print(sum)"
      ],
      "metadata": {
        "colab": {
          "base_uri": "https://localhost:8080/"
        },
        "id": "rxlTSVfdUETv",
        "outputId": "b8bb99d3-5dd5-477c-9c07-f10bdd24f651"
      },
      "execution_count": 93,
      "outputs": [
        {
          "output_type": "stream",
          "name": "stdout",
          "text": [
            "122\n"
          ]
        }
      ]
    },
    {
      "cell_type": "code",
      "source": [
        "sum=0\n",
        "for i in range(0,len(L)):\n",
        "   if(L[i]%2!=0):\n",
        "     sum=sum+L[i]\n",
        "print(sum)"
      ],
      "metadata": {
        "colab": {
          "base_uri": "https://localhost:8080/"
        },
        "id": "9OhIbYmzUUE3",
        "outputId": "20a84fda-f773-457b-9019-b73ec49c1495"
      },
      "execution_count": 96,
      "outputs": [
        {
          "output_type": "stream",
          "name": "stdout",
          "text": [
            "11\n"
          ]
        }
      ]
    },
    {
      "cell_type": "code",
      "source": [
        "sum=0\n",
        "c=0\n",
        "for i in range(0,len(L)):\n",
        "  for j in range(2,L[i]//2):\n",
        "    if (L[i]%j==0):\n",
        "          c=1\n",
        "          break\n",
        "    else:\n",
        "      c=0\n",
        "  if(c==0):\n",
        "   sum=sum+L[i]\n",
        "print(sum)"
      ],
      "metadata": {
        "colab": {
          "base_uri": "https://localhost:8080/"
        },
        "id": "wugKkaZRUdPR",
        "outputId": "4c003dba-90ca-430e-f57e-c5a09ef02686"
      },
      "execution_count": 95,
      "outputs": [
        {
          "output_type": "stream",
          "name": "stdout",
          "text": [
            "11\n"
          ]
        }
      ]
    },
    {
      "cell_type": "code",
      "source": [
        "L.clear()\n",
        "print(L)"
      ],
      "metadata": {
        "colab": {
          "base_uri": "https://localhost:8080/"
        },
        "id": "GME3c1A8Zibr",
        "outputId": "79c71dba-3721-4cb8-ad37-93eb579c561c"
      },
      "execution_count": 72,
      "outputs": [
        {
          "output_type": "stream",
          "name": "stdout",
          "text": [
            "[]\n"
          ]
        }
      ]
    },
    {
      "cell_type": "code",
      "source": [
        "del L\n"
      ],
      "metadata": {
        "id": "VKyVIgboaIon"
      },
      "execution_count": 97,
      "outputs": []
    },
    {
      "cell_type": "code",
      "source": [
        "D={1:5.6,2:7.8,3:6.6,4:8.7,5:7.7}\n",
        "D[8]=8.8\n",
        "print(D)"
      ],
      "metadata": {
        "colab": {
          "base_uri": "https://localhost:8080/"
        },
        "id": "_Dlo1zT3a7QJ",
        "outputId": "4b5124fc-b19f-4ff8-d9a7-6e33132bcfbc"
      },
      "execution_count": 2,
      "outputs": [
        {
          "output_type": "stream",
          "name": "stdout",
          "text": [
            "{1: 5.6, 2: 7.8, 3: 6.6, 4: 8.7, 5: 7.7, 8: 8.8}\n"
          ]
        }
      ]
    },
    {
      "cell_type": "code",
      "source": [
        "del D[2]\n",
        "print(D)\n"
      ],
      "metadata": {
        "colab": {
          "base_uri": "https://localhost:8080/"
        },
        "id": "-jpkEJTDbugM",
        "outputId": "dc775c26-8572-487a-d934-2c2a2ac837f9"
      },
      "execution_count": 3,
      "outputs": [
        {
          "output_type": "stream",
          "name": "stdout",
          "text": [
            "{1: 5.6, 3: 6.6, 4: 8.7, 5: 7.7, 8: 8.8}\n"
          ]
        }
      ]
    },
    {
      "cell_type": "code",
      "source": [
        "6 in D"
      ],
      "metadata": {
        "colab": {
          "base_uri": "https://localhost:8080/"
        },
        "id": "jwH40_t5cHFe",
        "outputId": "123c5a29-6a1e-4664-fd5e-7161eb907ad9"
      },
      "execution_count": 4,
      "outputs": [
        {
          "output_type": "execute_result",
          "data": {
            "text/plain": [
              "False"
            ]
          },
          "metadata": {},
          "execution_count": 4
        }
      ]
    },
    {
      "cell_type": "code",
      "source": [
        "len(D)"
      ],
      "metadata": {
        "colab": {
          "base_uri": "https://localhost:8080/"
        },
        "id": "7_JKUE5mcnhQ",
        "outputId": "b862062e-0e9c-4bac-d53f-0077b164a2bc"
      },
      "execution_count": 5,
      "outputs": [
        {
          "output_type": "execute_result",
          "data": {
            "text/plain": [
              "5"
            ]
          },
          "metadata": {},
          "execution_count": 5
        }
      ]
    },
    {
      "cell_type": "code",
      "source": [
        "sum=0\n",
        "for value in D.values():\n",
        "        sum += value\n",
        "          \n",
        "print(sum)"
      ],
      "metadata": {
        "colab": {
          "base_uri": "https://localhost:8080/"
        },
        "id": "KJTGYa2Uczqk",
        "outputId": "f6040950-d6c4-418c-f8d4-5b47c97e01c7"
      },
      "execution_count": 10,
      "outputs": [
        {
          "output_type": "stream",
          "name": "stdout",
          "text": [
            "37.4\n"
          ]
        }
      ]
    },
    {
      "cell_type": "code",
      "source": [
        "D[3]=7.7\n",
        "print(D)"
      ],
      "metadata": {
        "colab": {
          "base_uri": "https://localhost:8080/"
        },
        "id": "nMJbrun62cW4",
        "outputId": "a60ba333-84bb-4c74-fba8-fda6e17dd3e2"
      },
      "execution_count": 11,
      "outputs": [
        {
          "output_type": "stream",
          "name": "stdout",
          "text": [
            "{1: 5.6, 3: 7.7, 4: 8.7, 5: 7.7, 8: 8.8}\n"
          ]
        }
      ]
    },
    {
      "cell_type": "code",
      "source": [
        "D.clear()"
      ],
      "metadata": {
        "id": "y64p42f-2i5A"
      },
      "execution_count": 12,
      "outputs": []
    },
    {
      "cell_type": "code",
      "source": [
        "S1={10,20,30,40,50,60,70,80,90}\n",
        "S2={40,50,60,70,80,90}\n",
        "\n"
      ],
      "metadata": {
        "id": "INnvFsIa8P2r"
      },
      "execution_count": 25,
      "outputs": []
    },
    {
      "cell_type": "code",
      "source": [
        "S1.update([55,66])\n",
        "print(S1)"
      ],
      "metadata": {
        "colab": {
          "base_uri": "https://localhost:8080/"
        },
        "id": "4B3HqKuN-Vs4",
        "outputId": "e5c5ad35-f804-478b-fbfd-e34d2a164d7b"
      },
      "execution_count": 24,
      "outputs": [
        {
          "output_type": "stream",
          "name": "stdout",
          "text": [
            "{66, 70, 40, 10, 80, 50, 20, 55, 90, 60}\n"
          ]
        }
      ]
    },
    {
      "cell_type": "code",
      "source": [
        "S1.remove(30)\n",
        "print(S1)"
      ],
      "metadata": {
        "colab": {
          "base_uri": "https://localhost:8080/"
        },
        "id": "3bt7TIoi_IXR",
        "outputId": "7a8e2dab-1609-45a6-d627-6333f6f1ee0c"
      },
      "execution_count": 26,
      "outputs": [
        {
          "output_type": "stream",
          "name": "stdout",
          "text": [
            "{70, 40, 10, 80, 50, 20, 90, 60}\n"
          ]
        }
      ]
    },
    {
      "cell_type": "code",
      "source": [
        "40 in S1"
      ],
      "metadata": {
        "colab": {
          "base_uri": "https://localhost:8080/"
        },
        "id": "tTz62Cx5_W_8",
        "outputId": "b954b395-ed9e-4b15-e7ab-830ff210b531"
      },
      "execution_count": 27,
      "outputs": [
        {
          "output_type": "execute_result",
          "data": {
            "text/plain": [
              "True"
            ]
          },
          "metadata": {},
          "execution_count": 27
        }
      ]
    },
    {
      "cell_type": "code",
      "source": [
        "union=S1 | S2\n",
        "intersection=S1 & S2\n",
        "difference=S1-S2\n",
        "print(union)\n",
        "print(intersection)\n",
        "print(difference)"
      ],
      "metadata": {
        "colab": {
          "base_uri": "https://localhost:8080/"
        },
        "id": "ivFpZLM-_fg3",
        "outputId": "61fd7b18-7185-4846-e973-28b88699ed31"
      },
      "execution_count": 28,
      "outputs": [
        {
          "output_type": "stream",
          "name": "stdout",
          "text": [
            "{70, 40, 10, 80, 50, 20, 90, 60}\n",
            "{70, 40, 80, 50, 90, 60}\n",
            "{10, 20}\n"
          ]
        }
      ]
    },
    {
      "cell_type": "code",
      "source": [
        "def is_prime(n):\n",
        "    for i in range(2, n//2 + 1):\n",
        "        if n % i == 0:\n",
        "            return 0\n",
        "            break\n",
        "    return 1\n",
        "\n",
        "print(\"Prime numbers between 600 and 800 are\")\n",
        "for j in range(600,801):\n",
        "    if is_prime(j):\n",
        "        print(j)\n"
      ],
      "metadata": {
        "colab": {
          "base_uri": "https://localhost:8080/"
        },
        "id": "-V8O7MzvCEU9",
        "outputId": "a7cb76bf-c8c8-47bd-8b4f-4e5a21755bc7"
      },
      "execution_count": 29,
      "outputs": [
        {
          "output_type": "stream",
          "name": "stdout",
          "text": [
            "Prime numbers between 600 and 800 are\n",
            "601\n",
            "607\n",
            "613\n",
            "617\n",
            "619\n",
            "631\n",
            "641\n",
            "643\n",
            "647\n",
            "653\n",
            "659\n",
            "661\n",
            "673\n",
            "677\n",
            "683\n",
            "691\n",
            "701\n",
            "709\n",
            "719\n",
            "727\n",
            "733\n",
            "739\n",
            "743\n",
            "751\n",
            "757\n",
            "761\n",
            "769\n",
            "773\n",
            "787\n",
            "797\n"
          ]
        }
      ]
    },
    {
      "cell_type": "code",
      "source": [
        "import random\n",
        "import string\n",
        "\n",
        "def random_string():\n",
        "    len = random.randint(6, 8)\n",
        "    letters = string.ascii_letters  \n",
        "    r_string = ''.join(random.choice(letters) for _ in range(len))\n",
        "    return r_string\n",
        "\n",
        "\n",
        "print(\"Random strings of length 6 to 8:\")\n",
        "for _ in range(100):\n",
        "    r_string = random_string()\n",
        "    print(r_string)\n",
        "\n"
      ],
      "metadata": {
        "colab": {
          "base_uri": "https://localhost:8080/"
        },
        "id": "5VIyYmeeCprL",
        "outputId": "8ba446b7-5d10-4e9f-eb65-a4e2960a1c69"
      },
      "execution_count": 41,
      "outputs": [
        {
          "output_type": "stream",
          "name": "stdout",
          "text": [
            "Random strings of length 6 to 8:\n",
            "GtNDEUXz\n",
            "Hxomcw\n",
            "rBUFGZ\n",
            "aMgZWy\n",
            "NyuNxHe\n",
            "lUdXuMH\n",
            "KFHUVu\n",
            "dfFbMoH\n",
            "GnoFlTlr\n",
            "jhIDRB\n",
            "ZDLdhY\n",
            "Lzviwe\n",
            "DuRgCFqs\n",
            "qONBVT\n",
            "PbSNlv\n",
            "UxwNXeub\n",
            "kutAqdl\n",
            "UgUHpGV\n",
            "mZVxsva\n",
            "SydkYHNS\n",
            "eLZZkd\n",
            "oTfpToW\n",
            "MZLUhL\n",
            "mHsLsd\n",
            "oGcIXk\n",
            "AXDJyD\n",
            "DfFsKdJ\n",
            "GgEhOlQ\n",
            "EwOkrUsm\n",
            "NagCxsi\n",
            "zXxSTNd\n",
            "iVDFHagH\n",
            "KbJzqNM\n",
            "dVskpI\n",
            "YmBgcWo\n",
            "NOXjXt\n",
            "DXNioVhs\n",
            "uZOIsbqC\n",
            "NoTyEVA\n",
            "TOvyPq\n",
            "sYHWYS\n",
            "FHkXQj\n",
            "qUiYdaHA\n",
            "TRpynpSQ\n",
            "elYMqo\n",
            "XOLvNYBx\n",
            "NqYIAYWT\n",
            "xIuhOi\n",
            "vaVOinp\n",
            "HStWNax\n",
            "SVuCTbA\n",
            "tkTFTuxn\n",
            "kNvYxGpu\n",
            "YMtOdcQG\n",
            "pabDRU\n",
            "Ueelqd\n",
            "RQWpzWTS\n",
            "hIxGUNV\n",
            "heHQwXG\n",
            "pxnHZui\n",
            "fMUclN\n",
            "buPEmFR\n",
            "bXLdSvm\n",
            "GanoOho\n",
            "BYIbSoGF\n",
            "Obyooa\n",
            "iKTnAB\n",
            "UtHLatz\n",
            "QCOMwSLP\n",
            "uPszasAo\n",
            "ucZtdHb\n",
            "mfASRoHu\n",
            "xNCkjZ\n",
            "UaAxtr\n",
            "OdUIdb\n",
            "ocTWmegJ\n",
            "wZNoYE\n",
            "WGIHxUB\n",
            "efuDOIj\n",
            "rspNPO\n",
            "SVPaMZK\n",
            "ZIEejH\n",
            "uIIsyth\n",
            "OqmxSB\n",
            "DFxXGOvG\n",
            "ivVmMq\n",
            "RXvWMK\n",
            "ehFlAWdb\n",
            "uZeobehT\n",
            "xyuvwRF\n",
            "wcrVGnkD\n",
            "rXSCaM\n",
            "AopDMQCO\n",
            "VfbPbB\n",
            "JfUSbA\n",
            "TgjKCOI\n",
            "TENtOrrV\n",
            "VRFQbQZo\n",
            "VxtvlWYt\n",
            "KmJXzvZ\n"
          ]
        }
      ]
    },
    {
      "cell_type": "code",
      "source": [
        "import random\n",
        "def random_number():\n",
        "    return random.randint(10, 30)\n",
        "list1 = [random_number() for _ in range(10)]\n",
        "list2 = [random_number() for _ in range(10)]\n",
        "\n",
        "\n",
        "print(\"List 1:\", list1)\n",
        "print(\"List 2:\", list2)\n"
      ],
      "metadata": {
        "colab": {
          "base_uri": "https://localhost:8080/"
        },
        "id": "H36bAah3FpvW",
        "outputId": "0c32f7a8-2f19-452d-ec8c-4b3ae9dd0b9b"
      },
      "execution_count": 45,
      "outputs": [
        {
          "output_type": "stream",
          "name": "stdout",
          "text": [
            "List 1: [11, 25, 13, 26, 11, 23, 15, 19, 24, 10]\n",
            "List 2: [15, 13, 29, 14, 19, 19, 10, 27, 26, 22]\n"
          ]
        }
      ]
    },
    {
      "cell_type": "code",
      "source": [
        "set1=set(list1)\n",
        "set2=set(list2)\n",
        "common=set1.intersection(set2)\n",
        "unique=set1.symmetric_difference(set2)\n",
        "print(common)\n",
        "print(unique)\n"
      ],
      "metadata": {
        "colab": {
          "base_uri": "https://localhost:8080/"
        },
        "id": "SBzGOwZZEzkg",
        "outputId": "bfe1c12f-96bd-4c05-a2ad-05e3e0488fa5"
      },
      "execution_count": 48,
      "outputs": [
        {
          "output_type": "stream",
          "name": "stdout",
          "text": [
            "{10, 13, 15, 19, 26}\n",
            "{11, 14, 22, 23, 24, 25, 27, 29}\n"
          ]
        }
      ]
    },
    {
      "cell_type": "code",
      "source": [
        "print(max(list1))\n",
        "print(max(list2))\n",
        "\n"
      ],
      "metadata": {
        "colab": {
          "base_uri": "https://localhost:8080/"
        },
        "id": "fN27M0hRDxgF",
        "outputId": "815b3ef5-fd37-425f-f863-3e4e37926426"
      },
      "execution_count": 51,
      "outputs": [
        {
          "output_type": "stream",
          "name": "stdout",
          "text": [
            "26\n",
            "29\n"
          ]
        }
      ]
    },
    {
      "cell_type": "code",
      "source": [
        "import time\n",
        "\n",
        "# Record the start time\n",
        "start_time = time.time()\n",
        "\n",
        "# Record the end time\n",
        "end_time = time.time()\n",
        "\n",
        "# Calculate the execution time\n",
        "execution_time = end_time - start_time\n",
        "\n",
        "# Print the execution time\n",
        "print(\"Execution time:\", execution_time, \"seconds\")\n"
      ],
      "metadata": {
        "colab": {
          "base_uri": "https://localhost:8080/"
        },
        "id": "pOvX6EAQH6IU",
        "outputId": "b09ef1ac-8ca9-4ce9-9839-e7830e36e919"
      },
      "execution_count": 58,
      "outputs": [
        {
          "output_type": "stream",
          "name": "stdout",
          "text": [
            "Execution time: 2.1219253540039062e-05 seconds\n"
          ]
        }
      ]
    },
    {
      "cell_type": "code",
      "source": [
        "import time\n",
        "import matplotlib.pyplot as plt\n",
        "\n",
        "def sorting(elements):\n",
        "    my_list = [random.randint(1, 100) for _ in range(elements)]\n",
        "\n",
        "    start_time = time.time()\n",
        "    my_list.sort()\n",
        "    end_time = time.time()\n",
        "\n",
        "    execution_time = end_time - start_time\n",
        "\n",
        "    return execution_time\n",
        "elements_list = [5000, 10000, 15000, 20000, 25000]\n",
        "execution_times = []\n",
        "for elements in elements_list:\n",
        "    execution_time =sorting(elements)\n",
        "    execution_times.append(execution_time)\n",
        "\n",
        "#  graph\n",
        "plt.plot(elements_list, execution_times, marker='o')\n",
        "plt.xlabel('Number of Elements')\n",
        "plt.ylabel('Execution Time')\n",
        "plt.title(' Execution Time')\n",
        "plt.show()\n"
      ],
      "metadata": {
        "colab": {
          "base_uri": "https://localhost:8080/",
          "height": 472
        },
        "id": "gv3WXhYSJDKu",
        "outputId": "a92d9a17-1ea0-4973-f550-1afd947aef7a"
      },
      "execution_count": 61,
      "outputs": [
        {
          "output_type": "display_data",
          "data": {
            "text/plain": [
              "<Figure size 640x480 with 1 Axes>"
            ],
            "image/png": "[encoded data removed]"
          },
          "metadata": {}
        }
      ]
    }
  ]
}